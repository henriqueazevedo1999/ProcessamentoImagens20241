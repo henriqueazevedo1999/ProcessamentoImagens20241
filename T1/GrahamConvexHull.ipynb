{
 "cells": [
  {
   "cell_type": "code",
   "execution_count": 13,
   "metadata": {},
   "outputs": [],
   "source": [
    "class Point:\n",
    "  def __init__(self, x=0, y=0):\n",
    "    self.x = x\n",
    "    self.y = y\n",
    "\n",
    "  def get_x(self):\n",
    "    return self.x\n",
    "\n",
    "  def get_y(self):\n",
    "    return self.y\n",
    "  \n",
    "  def __str__(self):\n",
    "    return f\"({self.x}, {self.y})\""
   ]
  },
  {
   "cell_type": "code",
   "execution_count": 14,
   "metadata": {},
   "outputs": [],
   "source": [
    "def ccw(p1, p2, p3):\n",
    "  val = (p2.get_x() - p1.get_x()) * (p3.get_y() - p1.get_y()) - (p2.get_y() - p1.get_y()) * (p3.get_x() - p1.get_x())\n",
    "  return val < 0.000001"
   ]
  },
  {
   "cell_type": "code",
   "execution_count": 15,
   "metadata": {},
   "outputs": [],
   "source": [
    "def get_points_from_input():\n",
    "  # n = int(input(\"Enter the number of points: \"))\n",
    "  n = int(input())\n",
    "  points = []\n",
    "  # points = [Point(0, 0), Point(3,0), Point(3,3), Point(0,3)]\n",
    "  # points = [Point(0, 0), Point(3,0), Point(1,1), Point(0,3)]\n",
    "  for i in range(n):\n",
    "    # x, y = map(int, input(f\"Enter coordinates for point {i+1} (x y): \").split())\n",
    "    x, y = map(int, input().split())\n",
    "    points.append(Point(x, y))\n",
    "  return points"
   ]
  },
  {
   "cell_type": "code",
   "execution_count": 16,
   "metadata": {},
   "outputs": [
    {
     "name": "stdout",
     "output_type": "stream",
     "text": [
      "No\n",
      "Yes\n"
     ]
    }
   ],
   "source": [
    "while (True):\n",
    "    points = get_points_from_input()\n",
    "    if (len(points) == 0):\n",
    "        break\n",
    "    \n",
    "    points.sort(key=lambda p: p.get_x())\n",
    "    l_sup = points[:2]\n",
    "    l_inf = points[-2:]\n",
    "    l_inf.reverse()\n",
    "\n",
    "    for i in range(2, len(points)):\n",
    "        l_sup.append(points[i])\n",
    "        while (len(l_sup) > 2 and ccw(l_sup[-1], l_sup[-2], l_sup[-3])):\n",
    "            del l_sup[-2]\n",
    "\n",
    "    for i in range(len(points) - 3, -1, -1):\n",
    "        l_inf.append(points[i])\n",
    "        while (len(l_inf) > 2 and ccw(l_inf[-1], l_inf[-2], l_inf[-3])):\n",
    "            del l_inf[-2]\n",
    "\n",
    "    del l_sup[0]        \n",
    "    del l_inf[0]\n",
    "\n",
    "    result = l_sup + l_inf\n",
    "\n",
    "    # print(\"Points: \")\n",
    "    # for point in result:\n",
    "    #     print(point)\n",
    "    \n",
    "    if (len(result) == len(points)):\n",
    "        print(\"No\")\n",
    "    else:\n",
    "        print(\"Yes\")"
   ]
  }
 ],
 "metadata": {
  "kernelspec": {
   "display_name": "Python 3",
   "language": "python",
   "name": "python3"
  },
  "language_info": {
   "codemirror_mode": {
    "name": "ipython",
    "version": 3
   },
   "file_extension": ".py",
   "mimetype": "text/x-python",
   "name": "python",
   "nbconvert_exporter": "python",
   "pygments_lexer": "ipython3",
   "version": "3.11.4"
  },
  "orig_nbformat": 4
 },
 "nbformat": 4,
 "nbformat_minor": 2
}
